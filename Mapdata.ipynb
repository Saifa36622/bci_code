{
 "cells": [
  {
   "cell_type": "code",
   "execution_count": 2,
   "id": "f1037603",
   "metadata": {},
   "outputs": [],
   "source": [
    "import pandas as pd\n",
    "\n",
    "df = pd.read_csv('psychopy_data/101_project_2025-05-07_18h01.20.598.csv')\n"
   ]
  },
  {
   "cell_type": "code",
   "execution_count": 3,
   "id": "e24057e0",
   "metadata": {},
   "outputs": [
    {
     "data": {
      "text/plain": [
       "0       NaN\n",
       "1       NaN\n",
       "2       NaN\n",
       "3       NaN\n",
       "4       NaN\n",
       "5       NaN\n",
       "6       NaN\n",
       "7       NaN\n",
       "8       NaN\n",
       "9       NaN\n",
       "10      NaN\n",
       "11      NaN\n",
       "12      NaN\n",
       "13    space\n",
       "14      NaN\n",
       "15      NaN\n",
       "16      NaN\n",
       "17      NaN\n",
       "18      NaN\n",
       "19      NaN\n",
       "20    space\n",
       "21    space\n",
       "22    space\n",
       "23      NaN\n",
       "24      NaN\n",
       "25      NaN\n",
       "26      NaN\n",
       "27      NaN\n",
       "28      NaN\n",
       "29    space\n",
       "30      NaN\n",
       "31      NaN\n",
       "32      NaN\n",
       "33      NaN\n",
       "34      NaN\n",
       "35      NaN\n",
       "36      NaN\n",
       "37    space\n",
       "38      NaN\n",
       "39      NaN\n",
       "40      NaN\n",
       "41      NaN\n",
       "42      NaN\n",
       "43      NaN\n",
       "44      NaN\n",
       "45      NaN\n",
       "46      NaN\n",
       "47    space\n",
       "48      NaN\n",
       "49      NaN\n",
       "50      NaN\n",
       "51      NaN\n",
       "52      NaN\n",
       "Name: response.keys, dtype: object"
      ]
     },
     "execution_count": 3,
     "metadata": {},
     "output_type": "execute_result"
    }
   ],
   "source": [
    "df.get(key=\"response.keys\")"
   ]
  }
 ],
 "metadata": {
  "kernelspec": {
   "display_name": ".venv",
   "language": "python",
   "name": "python3"
  },
  "language_info": {
   "codemirror_mode": {
    "name": "ipython",
    "version": 3
   },
   "file_extension": ".py",
   "mimetype": "text/x-python",
   "name": "python",
   "nbconvert_exporter": "python",
   "pygments_lexer": "ipython3",
   "version": "3.11.9"
  }
 },
 "nbformat": 4,
 "nbformat_minor": 5
}
